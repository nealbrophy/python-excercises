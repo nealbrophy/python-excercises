{
 "cells": [
  {
   "cell_type": "code",
   "execution_count": 52,
   "metadata": {},
   "outputs": [],
   "source": [
    "def validate_isbn(x):\n",
    "    xnum = [i for i in x if i.isdigit()]\n",
    "    xlist = list(enumerate(xnum))\n",
    "    xlist_last_digit = xlist.pop()\n",
    "    print(xlist)\n",
    "    print(xlist_last_digit)\n",
    "    xlist_sum = 0\n",
    "    for i in xlist:\n",
    "        if i[0] % 2 != 0:\n",
    "            xlist_sum += 3*int(i[1])\n",
    "        else:\n",
    "            xlist_sum += 1*int(i[1])\n",
    "    if 10 - (xlist_sum % 10) == int(xlist_last_digit[1]):\n",
    "        return True\n",
    "    else:\n",
    "        return False\n",
    "    \n",
    "        "
   ]
  },
  {
   "cell_type": "code",
   "execution_count": 53,
   "metadata": {
    "scrolled": false
   },
   "outputs": [
    {
     "name": "stdout",
     "output_type": "stream",
     "text": [
      "[(0, '9'), (1, '7'), (2, '8'), (3, '0'), (4, '2'), (5, '6'), (6, '2'), (7, '0'), (8, '3'), (9, '8'), (10, '0'), (11, '0')]\n",
      "(12, '3')\n"
     ]
    },
    {
     "data": {
      "text/plain": [
       "True"
      ]
     },
     "execution_count": 53,
     "metadata": {},
     "output_type": "execute_result"
    }
   ],
   "source": [
    "validate_isbn(\"9780262038003\")"
   ]
  },
  {
   "cell_type": "code",
   "execution_count": null,
   "metadata": {},
   "outputs": [],
   "source": []
  }
 ],
 "metadata": {
  "kernelspec": {
   "display_name": "Python 3",
   "language": "python",
   "name": "python3"
  },
  "language_info": {
   "codemirror_mode": {
    "name": "ipython",
    "version": 3
   },
   "file_extension": ".py",
   "mimetype": "text/x-python",
   "name": "python",
   "nbconvert_exporter": "python",
   "pygments_lexer": "ipython3",
   "version": "3.9.1"
  }
 },
 "nbformat": 4,
 "nbformat_minor": 4
}
